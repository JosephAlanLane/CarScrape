{
 "cells": [
  {
   "cell_type": "code",
   "execution_count": null,
   "metadata": {},
   "outputs": [],
   "source": [
    "import requests\n",
    "from bs4 import BeautifulSoup\n",
    "import pandas as pd\n",
    "import numpy as np\n",
    "import re\n",
    "import lxml\n",
    "from IPython.core.display import display,HTML\n",
    "from selenium import webdriver\n",
    "from selenium.webdriver.common.keys import Keys\n",
    "from bs4 import BeautifulSoup\n",
    "from selenium import webdriver\n",
    "from selenium.webdriver.support.ui import WebDriverWait\n",
    "from selenium.webdriver.support import expected_conditions as EC\n",
    "from selenium.webdriver.common.by import By\n",
    "from selenium.common.exceptions import TimeoutException\n",
    "import requests\n",
    "from bs4 import BeautifulSoup\n",
    "import pandas as pd\n",
    "import numpy as np\n",
    "import re\n",
    "import lxml\n",
    "from IPython.core.display import display,HTML\n",
    "from selenium import webdriver\n",
    "from selenium.webdriver.common.keys import Keys\n",
    "#https://pypi.org/project/python-craigslist/"
   ]
  },
  {
   "cell_type": "code",
   "execution_count": null,
   "metadata": {},
   "outputs": [],
   "source": [
    "civic_url = 'https://orangecounty.craigslist.org/d/cars-trucks-by-owner/search/cto?auto_make_model=civic&auto_title_status=1&max_auto_miles=100000&max_auto_year=2019&max_price=10000&min_auto_miles=30000&min_auto_year=2009&min_price=3000'\n",
    "camry = ''\n",
    "car_urls = []\n",
    "kbb_base_url = 'https://www.kbb.com/honda/civic/YYYY/lx-sedan-4d/?category=sedan&condition=good&intent=buy-used&mileage=MMMMM&pricetype=private-party'"
   ]
  },
  {
   "cell_type": "code",
   "execution_count": null,
   "metadata": {},
   "outputs": [],
   "source": [
    "response = requests.get(civic_url)"
   ]
  },
  {
   "cell_type": "code",
   "execution_count": null,
   "metadata": {},
   "outputs": [],
   "source": [
    "#200 = Good; 400 = Bad Request, 403 = Forbidden, 404 Not Found\n",
    "print('Status Code:', response.status_code)"
   ]
  },
  {
   "cell_type": "code",
   "execution_count": null,
   "metadata": {},
   "outputs": [],
   "source": [
    "html = response.text"
   ]
  },
  {
   "cell_type": "code",
   "execution_count": null,
   "metadata": {},
   "outputs": [],
   "source": [
    "soup = BeautifulSoup(html, features = 'lxml')"
   ]
  },
  {
   "cell_type": "code",
   "execution_count": null,
   "metadata": {},
   "outputs": [],
   "source": [
    "soup.html.title"
   ]
  },
  {
   "cell_type": "code",
   "execution_count": null,
   "metadata": {},
   "outputs": [],
   "source": [
    "result_list = soup.find_all('a', {'class': 'result-title hdrlnk'},href = True)"
   ]
  },
  {
   "cell_type": "code",
   "execution_count": null,
   "metadata": {},
   "outputs": [],
   "source": [
    "result_list"
   ]
  },
  {
   "cell_type": "markdown",
   "metadata": {},
   "source": [
    "# Make DF"
   ]
  },
  {
   "cell_type": "code",
   "execution_count": null,
   "metadata": {},
   "outputs": [],
   "source": [
    "df = pd.DataFrame(index=range(len(result_list)),columns=['Photo','Model','Mileage','Asking','KBB_low','KBB_high','URL'])"
   ]
  },
  {
   "cell_type": "code",
   "execution_count": null,
   "metadata": {},
   "outputs": [],
   "source": [
    "df"
   ]
  },
  {
   "cell_type": "markdown",
   "metadata": {},
   "source": [
    "# Collect Relevant Ads"
   ]
  },
  {
   "cell_type": "code",
   "execution_count": null,
   "metadata": {},
   "outputs": [],
   "source": [
    "posting_urls = [result_list[i]['href'] for i in range(len(result_list))]\n",
    "#posting_urls = posting_urls[0:2]\n",
    "posting_urls"
   ]
  },
  {
   "cell_type": "code",
   "execution_count": null,
   "metadata": {},
   "outputs": [],
   "source": [
    "#Loop through all relevant posts and find \n",
    "for i,u in enumerate(posting_urls):\n",
    "    \n",
    "    print(i)\n",
    "    print(u)\n",
    "    r = requests.get(u)\n",
    "    #print('Status Code:', response.status_code)\n",
    "    h = r.text    \n",
    "    s = BeautifulSoup(h, 'lxml')\n",
    "\n",
    "    #Model:\n",
    "    attrs = s.find_all('p', attrs={'class': 'attrgroup'})\n",
    "    Model = attrs[0].find('span')\n",
    "    Model = Model.text\n",
    "    \n",
    "    \n",
    "    #Year:\n",
    "    start = Model.find('20')\n",
    "    Year = Model[start:start+4]\n",
    "    print(Year)\n",
    "    \n",
    "    #print(Model)\n",
    "    \n",
    "    #Odometer\n",
    "    a = attrs[1].find_all('span')\n",
    "    a = [i.text for i in a]\n",
    "    print(a)\n",
    "    for j in a:\n",
    "        if j.find('odometer: ')==0:\n",
    "            Mileage = j.split('odometer: ',1)[1]\n",
    "    print(Mileage)\n",
    "            \n",
    "    #Asking\n",
    "    price = s.find_all('span', attrs={'class': 'price'})\n",
    "    Asking = re.sub('[$,]', '',price[0].text )\n",
    "    \n",
    "    #Photo\n",
    "    try:\n",
    "        Photo = s.findAll('img')[0]['src']\n",
    "    except:\n",
    "        Photo = 'NOT FOUND'\n",
    "    \n",
    "    #KBB Avg Private Party Value\n",
    "    kbb_url = kbb_base_url.replace('YYYY', str(Year),1)\n",
    "    kbb_url = kbb_url.replace('MMMMM',Mileage)\n",
    "    \n",
    "    try:\n",
    "        driver = webdriver.Chrome()\n",
    "        driver.get(kbb_url)\n",
    "        soup = BeautifulSoup(driver.page_source, 'html.parser')\n",
    "        driver.quit()\n",
    "        t = soup.find('img',{'alt':'price advisor'})\n",
    "        #t.attrs['src']\n",
    "        resp = requests.get(t.attrs['src'])\n",
    "        soup = BeautifulSoup(resp.content, 'html.parser')\n",
    "        option_tags = soup.find_all(\"text\",{'text-anchor':'middle'})\n",
    "        option_tags\n",
    "        price_range = option_tags[1].contents[0]\n",
    "        low, high = price_range.split('-')\n",
    "        KBB_low = re.sub('[^A-Za-z0-9]+', '', low)\n",
    "        KBB_high = re.sub('[^A-Za-z0-9]+', '', high)\n",
    "    except:\n",
    "        print(\"#########################\\n\\n\\n KBB ERROR \\n\\n\\n#########################\")\n",
    "        KBB_low = float(\"NaN\")\n",
    "        KBB_high = float(\"NaN\")\n",
    "        driver.quit()\n",
    "\n",
    "\n",
    "\n",
    "    \n",
    "    #Set the data in df colums 'Photo','Model','Milage','Asking','KBB','URL'\n",
    "    df.loc[i,'Model']      = Model\n",
    "    df.loc[i,'Mileage']    = Mileage\n",
    "    df.loc[i,'Asking']     = Asking\n",
    "    df.loc[i,'URL']        = u\n",
    "    df.loc[i,'Photo']      = Photo\n",
    "    df.loc[i,'KBB_low']    = KBB_low     #if on low end of range, then include, otherwise set as NaN and remove from pd immediately after\n",
    "    df.loc[i,'KBB_high']   = KBB_high     \n",
    "    "
   ]
  },
  {
   "cell_type": "code",
   "execution_count": null,
   "metadata": {},
   "outputs": [],
   "source": [
    "df"
   ]
  },
  {
   "cell_type": "code",
   "execution_count": null,
   "metadata": {},
   "outputs": [],
   "source": [
    "df.dtypes"
   ]
  },
  {
   "cell_type": "code",
   "execution_count": null,
   "metadata": {},
   "outputs": [],
   "source": [
    "df.loc[:,'Asking'] = df.loc[:,'Asking'].astype(int)\n",
    "df.loc[:,'KBB_low']= df.loc[:,'KBB_low'].astype(int)\n",
    "df.loc[:,'KBB_high']= df.loc[:,'KBB_high'].astype(int)\n",
    "df.loc[:,'Mileage'] = df.loc[:,'Mileage'].astype('string')\n",
    "df.loc[:,'Model'] = df.loc[:,'Model'].astype('string')"
   ]
  },
  {
   "cell_type": "code",
   "execution_count": null,
   "metadata": {},
   "outputs": [],
   "source": [
    "df.dtypes"
   ]
  },
  {
   "cell_type": "code",
   "execution_count": null,
   "metadata": {},
   "outputs": [],
   "source": [
    "\n",
    "df = df.sort_values(by = 'Asking', ascending = True)"
   ]
  },
  {
   "cell_type": "code",
   "execution_count": null,
   "metadata": {},
   "outputs": [],
   "source": [
    "df = df.loc[df['Asking'] < df['KBB_low'],:] #If it's not below the KBB low estimation, just exclude it from the df"
   ]
  },
  {
   "cell_type": "code",
   "execution_count": null,
   "metadata": {},
   "outputs": [],
   "source": [
    "df['offer_ratio'] = df['Asking'].div(df.KBB_low, axis = 0)"
   ]
  },
  {
   "cell_type": "code",
   "execution_count": 71,
   "metadata": {},
   "outputs": [],
   "source": [
    "df = df.sort_values(by = 'offer_ratio', ascending = True)"
   ]
  },
  {
   "cell_type": "markdown",
   "metadata": {},
   "source": [
    "# Find Convert image for Pandas Dataframe"
   ]
  },
  {
   "cell_type": "code",
   "execution_count": null,
   "metadata": {},
   "outputs": [],
   "source": [
    "#https://stackoverflow.com/questions/53468558/adding-image-to-pandas-dataframe/53469293"
   ]
  },
  {
   "cell_type": "code",
   "execution_count": 73,
   "metadata": {},
   "outputs": [
    {
     "data": {
      "text/html": [
       "<table border=\"1\" class=\"dataframe\">\n",
       "  <thead>\n",
       "    <tr style=\"text-align: right;\">\n",
       "      <th></th>\n",
       "      <th>Photo</th>\n",
       "      <th>Model</th>\n",
       "      <th>Mileage</th>\n",
       "      <th>Asking</th>\n",
       "      <th>KBB_low</th>\n",
       "      <th>KBB_high</th>\n",
       "      <th>URL</th>\n",
       "      <th>offer_ratio</th>\n",
       "    </tr>\n",
       "  </thead>\n",
       "  <tbody>\n",
       "    <tr>\n",
       "      <th>2</th>\n",
       "      <td><img src=\"https://images.craigslist.org/01313_4N1A6aEXFLr_0t20e7_600x450.jpg\" width=\"180\" ></td>\n",
       "      <td>2015 honda civic</td>\n",
       "      <td>42500</td>\n",
       "      <td>8600</td>\n",
       "      <td>13342</td>\n",
       "      <td>15535</td>\n",
       "      <td>https://losangeles.craigslist.org/wst/cto/d/long-beach-2015-honda-civic/7368820862.html</td>\n",
       "      <td>0.553589</td>\n",
       "    </tr>\n",
       "    <tr>\n",
       "      <th>4</th>\n",
       "      <td><img src=\"https://images.craigslist.org/01212_3I9lEeFgq7xz_0CI0t2_600x450.jpg\" width=\"180\" ></td>\n",
       "      <td>2010 honda civic hybrid</td>\n",
       "      <td>99615</td>\n",
       "      <td>6500</td>\n",
       "      <td>5244</td>\n",
       "      <td>7217</td>\n",
       "      <td>https://losangeles.craigslist.org/sgv/cto/d/hacienda-heights-2010-honda-civic-hybrid/7365850421.html</td>\n",
       "      <td>0.900651</td>\n",
       "    </tr>\n",
       "    <tr>\n",
       "      <th>5</th>\n",
       "      <td><img src=\"https://images.craigslist.org/00W0W_fUWjeufUFHQz_0t20CI_600x450.jpg\" width=\"180\" ></td>\n",
       "      <td>2012 honda civic</td>\n",
       "      <td>84500</td>\n",
       "      <td>9400</td>\n",
       "      <td>7824</td>\n",
       "      <td>10181</td>\n",
       "      <td>https://losangeles.craigslist.org/sfv/cto/d/encino-honda-civic/7359190369.html</td>\n",
       "      <td>0.923288</td>\n",
       "    </tr>\n",
       "    <tr>\n",
       "      <th>0</th>\n",
       "      <td><img src=\"https://images.craigslist.org/00S0S_gf5SFN3KhGFz_0t20CI_600x450.jpg\" width=\"180\" ></td>\n",
       "      <td>2010 honda civic</td>\n",
       "      <td>99000</td>\n",
       "      <td>7000</td>\n",
       "      <td>5244</td>\n",
       "      <td>7217</td>\n",
       "      <td>https://losangeles.craigslist.org/sfv/cto/d/canyon-country-2010-honda-civic-coupe/7371136569.html</td>\n",
       "      <td>0.969932</td>\n",
       "    </tr>\n",
       "    <tr>\n",
       "      <th>3</th>\n",
       "      <td><img src=\"https://images.craigslist.org/00p0p_eAb2fVYZwa3z_0ak07K_600x450.jpg\" width=\"180\" ></td>\n",
       "      <td>2012 Honda Civic Ex Coupe</td>\n",
       "      <td>89758</td>\n",
       "      <td>9600</td>\n",
       "      <td>7527</td>\n",
       "      <td>9884</td>\n",
       "      <td>https://losangeles.craigslist.org/sfv/cto/d/canoga-park-2012-honda-civic-ex-coupe/7366133129.html</td>\n",
       "      <td>0.971267</td>\n",
       "    </tr>\n",
       "    <tr>\n",
       "      <th>1</th>\n",
       "      <td><img src=\"https://images.craigslist.org/00d0d_hj2tq5aF0MEz_0ak07K_600x450.jpg\" width=\"180\" ></td>\n",
       "      <td>2012 honda civic coupe ex</td>\n",
       "      <td>89700</td>\n",
       "      <td>9800</td>\n",
       "      <td>7527</td>\n",
       "      <td>9884</td>\n",
       "      <td>https://losangeles.craigslist.org/sfv/cto/d/tarzana-honda-2012-looks-and-drives/7369131724.html</td>\n",
       "      <td>0.991501</td>\n",
       "    </tr>\n",
       "  </tbody>\n",
       "</table>"
      ],
      "text/plain": [
       "<IPython.core.display.HTML object>"
      ]
     },
     "metadata": {},
     "output_type": "display_data"
    }
   ],
   "source": [
    "# convert your links to html tags \n",
    "def path_to_image_html(path):\n",
    "    return '<img src=\"'+ path + '\" width=\"180\" >'\n",
    "\n",
    "pd.set_option('display.max_colwidth', None)\n",
    "\n",
    "# Create the dictionariy to be passed as formatters\n",
    "format_dict = {}\n",
    "format_dict['Photo'] = path_to_image_html\n",
    "\n",
    "\n",
    "display(HTML(df.to_html(escape=False ,formatters=format_dict)))"
   ]
  },
  {
   "cell_type": "code",
   "execution_count": null,
   "metadata": {},
   "outputs": [],
   "source": [
    "d = HTML(df.to_html(escape=False ,formatters=format_dict))"
   ]
  },
  {
   "cell_type": "markdown",
   "metadata": {},
   "source": [
    "# Email Relevant Adds"
   ]
  },
  {
   "cell_type": "code",
   "execution_count": null,
   "metadata": {},
   "outputs": [],
   "source": [
    "#https://stackoverflow.com/questions/64505/sending-mail-from-python-using-smtp\n",
    "#https://stackoverflow.com/questions/50564407/pandas-send-email-containing-dataframe-as-a-visual-table/50566309\n",
    "#https://realpython.com/python-send-email/\n",
    "#https://www.code-learner.com/python-send-html-image-and-attachment-email-example/\n",
    "from email.mime.text import MIMEText\n",
    "from email.mime.application import MIMEApplication\n",
    "from email.mime.multipart import MIMEMultipart\n",
    "from smtplib import SMTP\n",
    "import smtplib,ssl\n",
    "import sys"
   ]
  },
  {
   "cell_type": "code",
   "execution_count": null,
   "metadata": {},
   "outputs": [],
   "source": [
    "\n",
    "port = 465  # For SSL\n",
    "password = '' #input(\"Type your password and press enter: \")\n",
    "\n",
    "# Create a secure SSL context\n",
    "context = ssl.create_default_context()\n",
    "\n",
    "with smtplib.SMTP_SSL(\"smtp.gmail.com\", port, context=context) as server:\n",
    "    server.login(\"\", password) #Put sending email here. Make sure to allow smtp send through gmail) just google how to do so\n",
    "    # TODO: Send email here\n",
    "    recipients = ['',''] #Sends to both of us \n",
    "    emaillist = [elem.strip().split(',') for elem in recipients]\n",
    "    msg = MIMEMultipart()\n",
    "    msg['Subject'] = \"Car deals, sorted by offer ratio\"\n",
    "    msg['From'] = '' #sender email\n",
    "\n",
    "\n",
    "    html = \"\"\"\\\n",
    "    <html>\n",
    "      <head></head>\n",
    "      <body>\n",
    "        {0}\n",
    "      </body>\n",
    "    </html>\n",
    "    \"\"\".format(df.loc[df['Asking'] < df['KBB_low'],:].to_html())\n",
    "\n",
    "    part1 = MIMEText(html, 'html')\n",
    "    msg.attach(part1)\n",
    "\n",
    "    server.sendmail(msg['From'], emaillist , msg.as_string())\n"
   ]
  }
 ],
 "metadata": {
  "kernelspec": {
   "display_name": "Python 3",
   "language": "python",
   "name": "python3"
  },
  "language_info": {
   "codemirror_mode": {
    "name": "ipython",
    "version": 3
   },
   "file_extension": ".py",
   "mimetype": "text/x-python",
   "name": "python",
   "nbconvert_exporter": "python",
   "pygments_lexer": "ipython3",
   "version": "3.9.5"
  },
  "varInspector": {
   "cols": {
    "lenName": 16,
    "lenType": 16,
    "lenVar": 40
   },
   "kernels_config": {
    "python": {
     "delete_cmd_postfix": "",
     "delete_cmd_prefix": "del ",
     "library": "var_list.py",
     "varRefreshCmd": "print(var_dic_list())"
    },
    "r": {
     "delete_cmd_postfix": ") ",
     "delete_cmd_prefix": "rm(",
     "library": "var_list.r",
     "varRefreshCmd": "cat(var_dic_list()) "
    }
   },
   "types_to_exclude": [
    "module",
    "function",
    "builtin_function_or_method",
    "instance",
    "_Feature"
   ],
   "window_display": false
  }
 },
 "nbformat": 4,
 "nbformat_minor": 4
}
